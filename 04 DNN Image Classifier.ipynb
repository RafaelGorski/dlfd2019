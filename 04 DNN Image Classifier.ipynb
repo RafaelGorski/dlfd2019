{
 "cells": [
  {
   "cell_type": "markdown",
   "metadata": {},
   "source": [
    "# Importing our Data\n",
    "\n",
    "We will be using the fashion_mnist dataset that comes with keras. It is visually more interesting than the standard mnist datasets which is a collection of hand written digits. While more intersesting, there is one additional step needed if you want to use the fashion mnist dataset, you will need to create a look up to the category names (0 = T-shirt, 1 = Trouser, 2 = Pullover, etc..) for each picture's ground truth label (which is stored as an integer from 1 to 10)."
   ]
  },
  {
   "cell_type": "code",
   "execution_count": null,
   "metadata": {},
   "outputs": [],
   "source": [
    "label_names = [\"T-shirt\", \"Trouser\", \"Pullover\",\"Dress\",\"Coat\",\"Sandal\",\"Shirt\",\"Sneaker\",\"Bag\",\"Ankle boot\"]"
   ]
  }
 ],
 "metadata": {
  "kernelspec": {
   "display_name": "Python 3",
   "language": "python",
   "name": "python3"
  },
  "language_info": {
   "codemirror_mode": {
    "name": "ipython",
    "version": 3
   },
   "file_extension": ".py",
   "mimetype": "text/x-python",
   "name": "python",
   "nbconvert_exporter": "python",
   "pygments_lexer": "ipython3",
   "version": "3.7.3"
  }
 },
 "nbformat": 4,
 "nbformat_minor": 2
}
