{
 "cells": [
  {
   "cell_type": "markdown",
   "metadata": {},
   "source": [
    "# MICROSOFT COGNITIVE SERVICES\n",
    "\n",
    "Here, we will look at calling out to Microsoft's cognitive services from our Jupyter Notebook and having our cloud based AI solutions provide us results.\n"
   ]
  },
  {
   "cell_type": "markdown",
   "metadata": {},
   "source": [
    "## Computer Vision Example\n",
    "\n",
    "Let's give the service a URL to an image we find online and ask it to give us a description of it."
   ]
  },
  {
   "cell_type": "code",
   "execution_count": null,
   "metadata": {},
   "outputs": [],
   "source": [
    "# You need to enter your own subscription keys below. \n",
    "# These don't work / are here for reference\n",
    "vision_key = \"396f21e0a4b038592b3d850604\"\n",
    "\n",
    "face_key = \"aa17c60a64e5b9e49ca47ec521\"\n"
   ]
  },
  {
   "cell_type": "code",
   "execution_count": null,
   "metadata": {},
   "outputs": [],
   "source": []
  }
 ],
 "metadata": {
  "kernelspec": {
   "display_name": "Python 3",
   "language": "python",
   "name": "python3"
  },
  "language_info": {
   "codemirror_mode": {
    "name": "ipython",
    "version": 3
   },
   "file_extension": ".py",
   "mimetype": "text/x-python",
   "name": "python",
   "nbconvert_exporter": "python",
   "pygments_lexer": "ipython3",
   "version": "3.7.3"
  }
 },
 "nbformat": 4,
 "nbformat_minor": 2
}
